{
 "cells": [
  {
   "cell_type": "code",
   "execution_count": 1,
   "id": "ae34a994",
   "metadata": {},
   "outputs": [],
   "source": [
    "import pandas as pd"
   ]
  },
  {
   "cell_type": "code",
   "execution_count": 4,
   "id": "c8a6eb9f",
   "metadata": {},
   "outputs": [
    {
     "name": "stdout",
     "output_type": "stream",
     "text": [
      "  EmpID     Name  Age\n",
      "0   E01  Devansh   21\n",
      "1   E02   Suketu   22\n",
      "2   E03    Harsh   23\n",
      "3   E04   Vihaan   24\n",
      "\n",
      "  EmpID  Salary\n",
      "0   E01   50000\n",
      "1   E02   49000\n",
      "2   E03   48000\n",
      "3   E04   47000\n"
     ]
    }
   ],
   "source": [
    "# Make two dataframes\n",
    "data1 = {\n",
    "    \"EmpID\": [\"E01\",\"E02\",\"E03\",\"E04\"],\n",
    "    \"Name\": [\"Devansh\",\"Suketu\",\"Harsh\",\"Vihaan\"],\n",
    "    \"Age\": [21,22,23,24]\n",
    "}\n",
    "\n",
    "data2 = {\n",
    "    \"EmpID\": [\"E01\",\"E02\",\"E03\",\"E04\"],\n",
    "    \"Salary\": [50000,49000,48000,47000]\n",
    "}\n",
    "\n",
    "df1 = pd.DataFrame(data1)\n",
    "df2 = pd.DataFrame(data2)\n",
    "\n",
    "print(df1)\n",
    "print()\n",
    "print(df2)"
   ]
  },
  {
   "cell_type": "code",
   "execution_count": 5,
   "id": "7ff7c4e1",
   "metadata": {},
   "outputs": [
    {
     "name": "stdout",
     "output_type": "stream",
     "text": [
      "  EmpID     Name  Age  Salary\n",
      "0   E01  Devansh   21   50000\n",
      "1   E02   Suketu   22   49000\n",
      "2   E03    Harsh   23   48000\n",
      "3   E04   Vihaan   24   47000\n"
     ]
    }
   ],
   "source": [
    "# Merge -> merge two dataframes on basis of something\n",
    "print(pd.merge(df1, df2, on=\"EmpID\")) # matches on \"EmpID\""
   ]
  },
  {
   "cell_type": "code",
   "execution_count": null,
   "id": "bee43be4",
   "metadata": {},
   "outputs": [
    {
     "name": "stdout",
     "output_type": "stream",
     "text": [
      "  EmpID     Name  Age  Salary\n",
      "0   E01  Devansh   21   50000\n",
      "1   E02   Suketu   22   49000\n",
      "2   E03    Harsh   23   48000\n",
      "3   E04   Vihaan   24   47000\n"
     ]
    }
   ],
   "source": [
    "# matches on \"EmpID\" but \"left join\"-> gives of left\n",
    "print(pd.merge(left=df1, right=df2, on=\"EmpID\", how=\"left\"))"
   ]
  },
  {
   "cell_type": "code",
   "execution_count": 11,
   "id": "04c94d40",
   "metadata": {},
   "outputs": [
    {
     "name": "stdout",
     "output_type": "stream",
     "text": [
      "  EmpID     Name  Age\n",
      "0   E01  Devansh   21\n",
      "1   E02   Suketu   22\n",
      "2   E03    Harsh   23\n",
      "3   E04   Vihaan   24\n",
      "0   E05  Devansh   21\n",
      "1   E06   Suketu   22\n",
      "2   E07    Harsh   23\n",
      "3   E08   Vihaan   24\n"
     ]
    }
   ],
   "source": [
    "# concat -> append one dataframe to second dataframe\n",
    "data3 = {\n",
    "    \"EmpID\": [\"E01\",\"E02\",\"E03\",\"E04\"],\n",
    "    \"Name\": [\"Devansh\",\"Suketu\",\"Harsh\",\"Vihaan\"],\n",
    "    \"Age\": [21,22,23,24]\n",
    "}\n",
    "\n",
    "data4 = {\n",
    "    \"EmpID\": [\"E05\",\"E06\",\"E07\",\"E08\"],\n",
    "    \"Name\": [\"Devansh\",\"Suketu\",\"Harsh\",\"Vihaan\"],\n",
    "    \"Age\": [21,22,23,24]\n",
    "}\n",
    "\n",
    "df3 = pd.DataFrame(data3)\n",
    "df4 = pd.DataFrame(data4)\n",
    "\n",
    "print(pd.concat([df3, df4]))"
   ]
  }
 ],
 "metadata": {
  "kernelspec": {
   "display_name": "venv (3.10.12)",
   "language": "python",
   "name": "python3"
  },
  "language_info": {
   "codemirror_mode": {
    "name": "ipython",
    "version": 3
   },
   "file_extension": ".py",
   "mimetype": "text/x-python",
   "name": "python",
   "nbconvert_exporter": "python",
   "pygments_lexer": "ipython3",
   "version": "3.10.12"
  }
 },
 "nbformat": 4,
 "nbformat_minor": 5
}
