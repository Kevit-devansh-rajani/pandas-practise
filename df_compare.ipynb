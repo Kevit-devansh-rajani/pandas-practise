{
 "cells": [
  {
   "cell_type": "code",
   "execution_count": 1,
   "id": "e330ea63",
   "metadata": {},
   "outputs": [],
   "source": [
    "import pandas as pd"
   ]
  },
  {
   "cell_type": "code",
   "execution_count": 3,
   "id": "6f27b4c4",
   "metadata": {},
   "outputs": [
    {
     "data": {
      "text/html": [
       "<div>\n",
       "<style scoped>\n",
       "    .dataframe tbody tr th:only-of-type {\n",
       "        vertical-align: middle;\n",
       "    }\n",
       "\n",
       "    .dataframe tbody tr th {\n",
       "        vertical-align: top;\n",
       "    }\n",
       "\n",
       "    .dataframe thead th {\n",
       "        text-align: right;\n",
       "    }\n",
       "</style>\n",
       "<table border=\"1\" class=\"dataframe\">\n",
       "  <thead>\n",
       "    <tr style=\"text-align: right;\">\n",
       "      <th></th>\n",
       "      <th>Fruits</th>\n",
       "      <th>Price</th>\n",
       "      <th>Quantity</th>\n",
       "    </tr>\n",
       "  </thead>\n",
       "  <tbody>\n",
       "    <tr>\n",
       "      <th>0</th>\n",
       "      <td>Apple</td>\n",
       "      <td>100</td>\n",
       "      <td>10</td>\n",
       "    </tr>\n",
       "    <tr>\n",
       "      <th>1</th>\n",
       "      <td>Banana</td>\n",
       "      <td>200</td>\n",
       "      <td>20</td>\n",
       "    </tr>\n",
       "    <tr>\n",
       "      <th>2</th>\n",
       "      <td>Cherry</td>\n",
       "      <td>300</td>\n",
       "      <td>30</td>\n",
       "    </tr>\n",
       "  </tbody>\n",
       "</table>\n",
       "</div>"
      ],
      "text/plain": [
       "   Fruits  Price  Quantity\n",
       "0   Apple    100        10\n",
       "1  Banana    200        20\n",
       "2  Cherry    300        30"
      ]
     },
     "execution_count": 3,
     "metadata": {},
     "output_type": "execute_result"
    }
   ],
   "source": [
    "# Make one dataframe\n",
    "data = {\n",
    "    \"Fruits\": [\"Apple\", \"Banana\", \"Cherry\"],\n",
    "    \"Price\": [100,200,300],\n",
    "    \"Quantity\": [10,20,30]\n",
    "}\n",
    "\n",
    "df1 = pd.DataFrame(data)\n",
    "df1"
   ]
  },
  {
   "cell_type": "code",
   "execution_count": 10,
   "id": "00183dfc",
   "metadata": {},
   "outputs": [
    {
     "data": {
      "text/html": [
       "<div>\n",
       "<style scoped>\n",
       "    .dataframe tbody tr th:only-of-type {\n",
       "        vertical-align: middle;\n",
       "    }\n",
       "\n",
       "    .dataframe tbody tr th {\n",
       "        vertical-align: top;\n",
       "    }\n",
       "\n",
       "    .dataframe thead th {\n",
       "        text-align: right;\n",
       "    }\n",
       "</style>\n",
       "<table border=\"1\" class=\"dataframe\">\n",
       "  <thead>\n",
       "    <tr style=\"text-align: right;\">\n",
       "      <th></th>\n",
       "      <th>Fruits</th>\n",
       "      <th>Price</th>\n",
       "      <th>Quantity</th>\n",
       "    </tr>\n",
       "  </thead>\n",
       "  <tbody>\n",
       "    <tr>\n",
       "      <th>0</th>\n",
       "      <td>Apple</td>\n",
       "      <td>400</td>\n",
       "      <td>40</td>\n",
       "    </tr>\n",
       "    <tr>\n",
       "      <th>1</th>\n",
       "      <td>Banana</td>\n",
       "      <td>200</td>\n",
       "      <td>20</td>\n",
       "    </tr>\n",
       "    <tr>\n",
       "      <th>2</th>\n",
       "      <td>Cherry</td>\n",
       "      <td>600</td>\n",
       "      <td>60</td>\n",
       "    </tr>\n",
       "  </tbody>\n",
       "</table>\n",
       "</div>"
      ],
      "text/plain": [
       "   Fruits  Price  Quantity\n",
       "0   Apple    400        40\n",
       "1  Banana    200        20\n",
       "2  Cherry    600        60"
      ]
     },
     "execution_count": 10,
     "metadata": {},
     "output_type": "execute_result"
    }
   ],
   "source": [
    "df2 = df1.copy()\n",
    "\n",
    "# changes into old fruits history\n",
    "df2.loc[0, \"Price\"] = 400\n",
    "df2.loc[2, \"Price\"] = 600\n",
    "\n",
    "df2.loc[0, \"Quantity\"] = 40\n",
    "df2.loc[2, \"Quantity\"] = 60\n",
    "\n",
    "df2"
   ]
  },
  {
   "cell_type": "code",
   "execution_count": 12,
   "id": "e6d30ae9",
   "metadata": {},
   "outputs": [
    {
     "name": "stdout",
     "output_type": "stream",
     "text": [
      "         Price  Quantity\n",
      "0 self   100.0      10.0\n",
      "  other  400.0      40.0\n",
      "2 self   300.0      30.0\n",
      "  other  600.0      60.0\n"
     ]
    }
   ],
   "source": [
    "# Compare df1 and df2 -> show only changes \n",
    "print(df1.compare(df2, align_axis=0))  # self = df1, other = df2"
   ]
  },
  {
   "cell_type": "code",
   "execution_count": 19,
   "id": "8bf9bf90",
   "metadata": {},
   "outputs": [
    {
     "name": "stdout",
     "output_type": "stream",
     "text": [
      "        Fruits  Price  Quantity\n",
      "0 self     NaN  100.0      10.0\n",
      "  other    NaN  400.0      40.0\n",
      "1 self     NaN    NaN       NaN\n",
      "  other    NaN    NaN       NaN\n",
      "2 self     NaN  300.0      30.0\n",
      "  other    NaN  600.0      60.0\n"
     ]
    }
   ],
   "source": [
    "# keep_shape = True -> fills unchanged values with NaN \n",
    "print(df1.compare(df2, align_axis=0, keep_shape=True))"
   ]
  },
  {
   "cell_type": "code",
   "execution_count": 20,
   "id": "41ed142e",
   "metadata": {},
   "outputs": [
    {
     "name": "stdout",
     "output_type": "stream",
     "text": [
      "         Price  Quantity\n",
      "0 self     100        10\n",
      "  other    400        40\n",
      "2 self     300        30\n",
      "  other    600        60\n"
     ]
    }
   ],
   "source": [
    "# keep_shape = True -> fills unchanged values with NaN \n",
    "print(df1.compare(df2, align_axis=0, keep_equal=True))"
   ]
  }
 ],
 "metadata": {
  "kernelspec": {
   "display_name": "venv (3.10.12)",
   "language": "python",
   "name": "python3"
  },
  "language_info": {
   "codemirror_mode": {
    "name": "ipython",
    "version": 3
   },
   "file_extension": ".py",
   "mimetype": "text/x-python",
   "name": "python",
   "nbconvert_exporter": "python",
   "pygments_lexer": "ipython3",
   "version": "3.10.12"
  }
 },
 "nbformat": 4,
 "nbformat_minor": 5
}
