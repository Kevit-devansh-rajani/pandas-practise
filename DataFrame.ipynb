{
 "cells": [
  {
   "cell_type": "code",
   "execution_count": 2,
   "id": "fbbdb551",
   "metadata": {},
   "outputs": [],
   "source": [
    "import pandas as pd"
   ]
  },
  {
   "cell_type": "code",
   "execution_count": 3,
   "id": "df34eced",
   "metadata": {},
   "outputs": [
    {
     "name": "stdout",
     "output_type": "stream",
     "text": [
      "      Name  age  Salary\n",
      "0  devansh   21  100000\n",
      "1     ansh   22   50000\n"
     ]
    }
   ],
   "source": [
    "# Making dataframe\n",
    "\n",
    "data = {\n",
    "    \"Name\": [\"devansh\",\"ansh\"],\n",
    "    \"age\" : [21,22],\n",
    "    \"Salary\" : [100000,50000]\n",
    "}\n",
    "\n",
    "df = pd.DataFrame(data)\n",
    "print(df)"
   ]
  },
  {
   "cell_type": "code",
   "execution_count": 6,
   "id": "436bc5b8",
   "metadata": {},
   "outputs": [
    {
     "name": "stdout",
     "output_type": "stream",
     "text": [
      "   Unnamed: 0      Name gender  salary\n",
      "0           0    ayushi      F   20000\n",
      "1           1     rohit      M   25000\n",
      "2           2  pranjali      F   27000\n"
     ]
    }
   ],
   "source": [
    "# reading data from csv file\n",
    "data = pd.read_csv(\"company.csv\")\n",
    "print(data)"
   ]
  },
  {
   "cell_type": "code",
   "execution_count": 8,
   "id": "c1d17530",
   "metadata": {},
   "outputs": [
    {
     "name": "stdout",
     "output_type": "stream",
     "text": [
      "        Date    Category Sub-Category   Amount Payment Mode\n",
      "0 2023-01-01     Grocery       Grocery      30         Cash\n",
      "1 2023-01-02        Food    Restaurant     890          UPI\n",
      "2 2023-01-04         123        Zomato     257          NaN\n",
      "3 2023-01-06  Essentials         Diary     120          UPI\n",
      "4 2023-01-06  Essentials       Perfume    1500         Cash\n"
     ]
    }
   ],
   "source": [
    "# reading data from excel file\n",
    "data = pd.read_excel(\"expense3.xlsx\")\n",
    "print(data.head())"
   ]
  }
 ],
 "metadata": {
  "kernelspec": {
   "display_name": "venv (3.10.12)",
   "language": "python",
   "name": "python3"
  },
  "language_info": {
   "codemirror_mode": {
    "name": "ipython",
    "version": 3
   },
   "file_extension": ".py",
   "mimetype": "text/x-python",
   "name": "python",
   "nbconvert_exporter": "python",
   "pygments_lexer": "ipython3",
   "version": "3.10.12"
  }
 },
 "nbformat": 4,
 "nbformat_minor": 5
}
