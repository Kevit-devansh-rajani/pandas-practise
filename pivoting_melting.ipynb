{
 "cells": [
  {
   "cell_type": "code",
   "execution_count": 1,
   "id": "6061184c",
   "metadata": {},
   "outputs": [],
   "source": [
    "import pandas as pd"
   ]
  },
  {
   "cell_type": "code",
   "execution_count": 11,
   "id": "31e9a490",
   "metadata": {},
   "outputs": [
    {
     "data": {
      "text/html": [
       "<div>\n",
       "<style scoped>\n",
       "    .dataframe tbody tr th:only-of-type {\n",
       "        vertical-align: middle;\n",
       "    }\n",
       "\n",
       "    .dataframe tbody tr th {\n",
       "        vertical-align: top;\n",
       "    }\n",
       "\n",
       "    .dataframe thead th {\n",
       "        text-align: right;\n",
       "    }\n",
       "</style>\n",
       "<table border=\"1\" class=\"dataframe\">\n",
       "  <thead>\n",
       "    <tr style=\"text-align: right;\">\n",
       "      <th></th>\n",
       "      <th>keys</th>\n",
       "      <th>names</th>\n",
       "      <th>houses</th>\n",
       "      <th>grades</th>\n",
       "    </tr>\n",
       "  </thead>\n",
       "  <tbody>\n",
       "    <tr>\n",
       "      <th>0</th>\n",
       "      <td>k1</td>\n",
       "      <td>A</td>\n",
       "      <td>red</td>\n",
       "      <td>1</td>\n",
       "    </tr>\n",
       "    <tr>\n",
       "      <th>1</th>\n",
       "      <td>k2</td>\n",
       "      <td>B</td>\n",
       "      <td>green</td>\n",
       "      <td>2</td>\n",
       "    </tr>\n",
       "    <tr>\n",
       "      <th>2</th>\n",
       "      <td>k3</td>\n",
       "      <td>C</td>\n",
       "      <td>blue</td>\n",
       "      <td>3</td>\n",
       "    </tr>\n",
       "  </tbody>\n",
       "</table>\n",
       "</div>"
      ],
      "text/plain": [
       "  keys names houses  grades\n",
       "0   k1     A    red       1\n",
       "1   k2     B  green       2\n",
       "2   k3     C   blue       3"
      ]
     },
     "execution_count": 11,
     "metadata": {},
     "output_type": "execute_result"
    }
   ],
   "source": [
    "data = {\n",
    "    \"keys\": [\"k1\",\"k2\",\"k3\"],\n",
    "    \"names\": [\"A\",\"B\",\"C\"],\n",
    "    \"houses\": [\"red\",\"green\",\"blue\"],\n",
    "    \"grades\": [1,2,3]\n",
    "}\n",
    "\n",
    "df = pd.DataFrame(data)\n",
    "df"
   ]
  },
  {
   "cell_type": "code",
   "execution_count": 13,
   "id": "0ad7a42d",
   "metadata": {},
   "outputs": [
    {
     "name": "stdout",
     "output_type": "stream",
     "text": [
      "      houses              grades          \n",
      "names      A      B     C      A    B    C\n",
      "keys                                      \n",
      "k1       red    NaN   NaN      1  NaN  NaN\n",
      "k2       NaN  green   NaN    NaN    2  NaN\n",
      "k3       NaN    NaN  blue    NaN  NaN    3\n"
     ]
    }
   ],
   "source": [
    "# Pivoting: Converts long (row-based) data into wide (column-based) format.\n",
    "\"\"\"\n",
    "index: rows,\n",
    "columns: column_name(names),\n",
    "values: value of columns\n",
    "\"\"\"\n",
    "print(df.pivot(index=\"keys\",columns=\"names\",values=[\"houses\",\"grades\"])) "
   ]
  },
  {
   "cell_type": "code",
   "execution_count": 9,
   "id": "fd283f2a",
   "metadata": {},
   "outputs": [
    {
     "data": {
      "text/html": [
       "<div>\n",
       "<style scoped>\n",
       "    .dataframe tbody tr th:only-of-type {\n",
       "        vertical-align: middle;\n",
       "    }\n",
       "\n",
       "    .dataframe tbody tr th {\n",
       "        vertical-align: top;\n",
       "    }\n",
       "\n",
       "    .dataframe thead th {\n",
       "        text-align: right;\n",
       "    }\n",
       "</style>\n",
       "<table border=\"1\" class=\"dataframe\">\n",
       "  <thead>\n",
       "    <tr style=\"text-align: right;\">\n",
       "      <th></th>\n",
       "      <th>names</th>\n",
       "      <th>houses</th>\n",
       "      <th>grades</th>\n",
       "    </tr>\n",
       "  </thead>\n",
       "  <tbody>\n",
       "    <tr>\n",
       "      <th>0</th>\n",
       "      <td>A</td>\n",
       "      <td>red</td>\n",
       "      <td>1</td>\n",
       "    </tr>\n",
       "    <tr>\n",
       "      <th>1</th>\n",
       "      <td>B</td>\n",
       "      <td>green</td>\n",
       "      <td>2</td>\n",
       "    </tr>\n",
       "    <tr>\n",
       "      <th>2</th>\n",
       "      <td>C</td>\n",
       "      <td>blue</td>\n",
       "      <td>3</td>\n",
       "    </tr>\n",
       "  </tbody>\n",
       "</table>\n",
       "</div>"
      ],
      "text/plain": [
       "  names houses  grades\n",
       "0     A    red       1\n",
       "1     B  green       2\n",
       "2     C   blue       3"
      ]
     },
     "execution_count": 9,
     "metadata": {},
     "output_type": "execute_result"
    }
   ],
   "source": [
    "data1 = {\n",
    "    \"names\": [\"A\",\"B\",\"C\"],\n",
    "    \"houses\": [\"red\",\"green\",\"blue\"],\n",
    "    \"grades\": [1,2,3]\n",
    "}\n",
    "\n",
    "df1 = pd.DataFrame(data1)\n",
    "df1"
   ]
  },
  {
   "cell_type": "code",
   "execution_count": 15,
   "id": "d8bc572e",
   "metadata": {},
   "outputs": [
    {
     "name": "stdout",
     "output_type": "stream",
     "text": [
      "  names House_var  value\n",
      "0     A    houses    red\n",
      "1     B    houses  green\n",
      "2     C    houses   blue\n",
      "3     A    grades      1\n",
      "4     B    grades      2\n",
      "5     C    grades      3\n"
     ]
    }
   ],
   "source": [
    "# Melting: Converts wide (column-based) data into long (row-based) format.\n",
    "\"\"\"\n",
    "You specify which columns to keep as identifiers (id_vars) and which to unpivot (value_vars).\n",
    "variable = value format\n",
    "\"\"\"\n",
    "print(pd.melt(df1, id_vars=\"names\",value_vars=[\"houses\",\"grades\"],var_name=\"House_var\"))"
   ]
  }
 ],
 "metadata": {
  "kernelspec": {
   "display_name": "venv (3.10.12)",
   "language": "python",
   "name": "python3"
  },
  "language_info": {
   "codemirror_mode": {
    "name": "ipython",
    "version": 3
   },
   "file_extension": ".py",
   "mimetype": "text/x-python",
   "name": "python",
   "nbconvert_exporter": "python",
   "pygments_lexer": "ipython3",
   "version": "3.10.12"
  }
 },
 "nbformat": 4,
 "nbformat_minor": 5
}
